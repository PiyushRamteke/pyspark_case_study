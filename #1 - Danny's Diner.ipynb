{
 "cells": [
  {
   "cell_type": "code",
   "execution_count": 0,
   "metadata": {
    "application/vnd.databricks.v1+cell": {
     "cellMetadata": {
      "byteLimit": 2048000,
      "rowLimit": 10000
     },
     "inputWidgets": {},
     "nuid": "50aa8de8-fbce-4f39-bf19-1bb3bbdc78a5",
     "showTitle": false,
     "title": ""
    }
   },
   "outputs": [],
   "source": [
    "from pyspark.sql.types import StructType, StructField, IntegerType, DateType,VarcharType, StringType"
   ]
  },
  {
   "cell_type": "code",
   "execution_count": 0,
   "metadata": {
    "application/vnd.databricks.v1+cell": {
     "cellMetadata": {
      "byteLimit": 2048000,
      "rowLimit": 10000
     },
     "inputWidgets": {},
     "nuid": "c62c39e4-ba54-425d-8706-3d1be3b85ad2",
     "showTitle": false,
     "title": ""
    }
   },
   "outputs": [
    {
     "output_type": "stream",
     "name": "stdout",
     "output_type": "stream",
     "text": [
      "root\n |-- customer_id: string (nullable = true)\n |-- order_date: date (nullable = true)\n |-- product_id: integer (nullable = true)\n\n"
     ]
    },
    {
     "output_type": "display_data",
     "data": {
      "text/html": [
       "<style scoped>\n",
       "  .table-result-container {\n",
       "    max-height: 300px;\n",
       "    overflow: auto;\n",
       "  }\n",
       "  table, th, td {\n",
       "    border: 1px solid black;\n",
       "    border-collapse: collapse;\n",
       "  }\n",
       "  th, td {\n",
       "    padding: 5px;\n",
       "  }\n",
       "  th {\n",
       "    text-align: left;\n",
       "  }\n",
       "</style><div class='table-result-container'><table class='table-result'><thead style='background-color: white'><tr><th>customer_id</th><th>order_date</th><th>product_id</th></tr></thead><tbody><tr><td>A</td><td>2021-01-01</td><td>1</td></tr><tr><td>A</td><td>2021-01-01</td><td>2</td></tr><tr><td>A</td><td>2021-01-07</td><td>2</td></tr><tr><td>A</td><td>2021-01-10</td><td>3</td></tr><tr><td>A</td><td>2021-01-11</td><td>3</td></tr><tr><td>A</td><td>2021-01-11</td><td>3</td></tr><tr><td>B</td><td>2021-01-01</td><td>2</td></tr><tr><td>B</td><td>2021-01-02</td><td>2</td></tr><tr><td>B</td><td>2021-01-04</td><td>1</td></tr><tr><td>B</td><td>2021-01-11</td><td>1</td></tr><tr><td>B</td><td>2021-01-16</td><td>3</td></tr><tr><td>B</td><td>2021-02-01</td><td>3</td></tr><tr><td>C</td><td>2021-01-01</td><td>3</td></tr><tr><td>C</td><td>2021-01-01</td><td>3</td></tr><tr><td>C</td><td>2021-01-07</td><td>3</td></tr></tbody></table></div>"
      ]
     },
     "metadata": {
      "application/vnd.databricks.v1+output": {
       "addedWidgets": {},
       "aggData": [],
       "aggError": "",
       "aggOverflow": false,
       "aggSchema": [],
       "aggSeriesLimitReached": false,
       "aggType": "",
       "arguments": {},
       "columnCustomDisplayInfos": {},
       "data": [
        [
         "A",
         "2021-01-01",
         1
        ],
        [
         "A",
         "2021-01-01",
         2
        ],
        [
         "A",
         "2021-01-07",
         2
        ],
        [
         "A",
         "2021-01-10",
         3
        ],
        [
         "A",
         "2021-01-11",
         3
        ],
        [
         "A",
         "2021-01-11",
         3
        ],
        [
         "B",
         "2021-01-01",
         2
        ],
        [
         "B",
         "2021-01-02",
         2
        ],
        [
         "B",
         "2021-01-04",
         1
        ],
        [
         "B",
         "2021-01-11",
         1
        ],
        [
         "B",
         "2021-01-16",
         3
        ],
        [
         "B",
         "2021-02-01",
         3
        ],
        [
         "C",
         "2021-01-01",
         3
        ],
        [
         "C",
         "2021-01-01",
         3
        ],
        [
         "C",
         "2021-01-07",
         3
        ]
       ],
       "datasetInfos": [],
       "dbfsResultPath": null,
       "isJsonSchema": true,
       "metadata": {},
       "overflow": false,
       "plotOptions": {
        "customPlotOptions": {},
        "displayType": "table",
        "pivotAggregation": null,
        "pivotColumns": null,
        "xColumns": null,
        "yColumns": null
       },
       "removedWidgets": [],
       "schema": [
        {
         "metadata": "{}",
         "name": "customer_id",
         "type": "\"string\""
        },
        {
         "metadata": "{\"__detected_date_formats\":\"yyyy-M-d\"}",
         "name": "order_date",
         "type": "\"date\""
        },
        {
         "metadata": "{}",
         "name": "product_id",
         "type": "\"integer\""
        }
       ],
       "type": "table"
      }
     },
     "output_type": "display_data"
    }
   ],
   "source": [
    "sales = spark.read.csv(\"dbfs:/FileStore/CaseStudy/Dannys_Diner/sales.csv\",header=True, inferSchema=True)\n",
    "sales.printSchema()\n",
    "display(sales)"
   ]
  },
  {
   "cell_type": "code",
   "execution_count": 0,
   "metadata": {
    "application/vnd.databricks.v1+cell": {
     "cellMetadata": {
      "byteLimit": 2048000,
      "rowLimit": 10000
     },
     "inputWidgets": {},
     "nuid": "a6519290-5ade-4795-bfc8-c83454e5e9ff",
     "showTitle": false,
     "title": ""
    }
   },
   "outputs": [
    {
     "output_type": "stream",
     "name": "stdout",
     "output_type": "stream",
     "text": [
      "root\n |-- product_id: integer (nullable = true)\n |-- product_name: string (nullable = true)\n |-- price: integer (nullable = true)\n\n"
     ]
    },
    {
     "output_type": "display_data",
     "data": {
      "text/html": [
       "<style scoped>\n",
       "  .table-result-container {\n",
       "    max-height: 300px;\n",
       "    overflow: auto;\n",
       "  }\n",
       "  table, th, td {\n",
       "    border: 1px solid black;\n",
       "    border-collapse: collapse;\n",
       "  }\n",
       "  th, td {\n",
       "    padding: 5px;\n",
       "  }\n",
       "  th {\n",
       "    text-align: left;\n",
       "  }\n",
       "</style><div class='table-result-container'><table class='table-result'><thead style='background-color: white'><tr><th>product_id</th><th>product_name</th><th>price</th></tr></thead><tbody><tr><td>1</td><td>sushi</td><td>10</td></tr><tr><td>2</td><td>curry</td><td>15</td></tr><tr><td>3</td><td>ramen</td><td>12</td></tr></tbody></table></div>"
      ]
     },
     "metadata": {
      "application/vnd.databricks.v1+output": {
       "addedWidgets": {},
       "aggData": [],
       "aggError": "",
       "aggOverflow": false,
       "aggSchema": [],
       "aggSeriesLimitReached": false,
       "aggType": "",
       "arguments": {},
       "columnCustomDisplayInfos": {},
       "data": [
        [
         1,
         "sushi",
         10
        ],
        [
         2,
         "curry",
         15
        ],
        [
         3,
         "ramen",
         12
        ]
       ],
       "datasetInfos": [],
       "dbfsResultPath": null,
       "isJsonSchema": true,
       "metadata": {},
       "overflow": false,
       "plotOptions": {
        "customPlotOptions": {},
        "displayType": "table",
        "pivotAggregation": null,
        "pivotColumns": null,
        "xColumns": null,
        "yColumns": null
       },
       "removedWidgets": [],
       "schema": [
        {
         "metadata": "{}",
         "name": "product_id",
         "type": "\"integer\""
        },
        {
         "metadata": "{}",
         "name": "product_name",
         "type": "\"string\""
        },
        {
         "metadata": "{}",
         "name": "price",
         "type": "\"integer\""
        }
       ],
       "type": "table"
      }
     },
     "output_type": "display_data"
    }
   ],
   "source": [
    "menu = spark.read.csv(\"dbfs:/FileStore/CaseStudy/Dannys_Diner/menu.csv\",header=True,inferSchema=True)\n",
    "menu.printSchema()\n",
    "display(menu)"
   ]
  },
  {
   "cell_type": "code",
   "execution_count": 0,
   "metadata": {
    "application/vnd.databricks.v1+cell": {
     "cellMetadata": {
      "byteLimit": 2048000,
      "rowLimit": 10000
     },
     "inputWidgets": {},
     "nuid": "4db62ae8-18d7-44ba-b29c-f85dcd0ba5a7",
     "showTitle": false,
     "title": ""
    }
   },
   "outputs": [
    {
     "output_type": "stream",
     "name": "stdout",
     "output_type": "stream",
     "text": [
      "root\n |-- customer_id: string (nullable = true)\n |-- join_date: date (nullable = true)\n\n"
     ]
    },
    {
     "output_type": "display_data",
     "data": {
      "text/html": [
       "<style scoped>\n",
       "  .table-result-container {\n",
       "    max-height: 300px;\n",
       "    overflow: auto;\n",
       "  }\n",
       "  table, th, td {\n",
       "    border: 1px solid black;\n",
       "    border-collapse: collapse;\n",
       "  }\n",
       "  th, td {\n",
       "    padding: 5px;\n",
       "  }\n",
       "  th {\n",
       "    text-align: left;\n",
       "  }\n",
       "</style><div class='table-result-container'><table class='table-result'><thead style='background-color: white'><tr><th>customer_id</th><th>join_date</th></tr></thead><tbody><tr><td>A</td><td>2021-01-07</td></tr><tr><td>B</td><td>2021-01-09</td></tr></tbody></table></div>"
      ]
     },
     "metadata": {
      "application/vnd.databricks.v1+output": {
       "addedWidgets": {},
       "aggData": [],
       "aggError": "",
       "aggOverflow": false,
       "aggSchema": [],
       "aggSeriesLimitReached": false,
       "aggType": "",
       "arguments": {},
       "columnCustomDisplayInfos": {},
       "data": [
        [
         "A",
         "2021-01-07"
        ],
        [
         "B",
         "2021-01-09"
        ]
       ],
       "datasetInfos": [],
       "dbfsResultPath": null,
       "isJsonSchema": true,
       "metadata": {},
       "overflow": false,
       "plotOptions": {
        "customPlotOptions": {},
        "displayType": "table",
        "pivotAggregation": null,
        "pivotColumns": null,
        "xColumns": null,
        "yColumns": null
       },
       "removedWidgets": [],
       "schema": [
        {
         "metadata": "{}",
         "name": "customer_id",
         "type": "\"string\""
        },
        {
         "metadata": "{\"__detected_date_formats\":\"yyyy-M-d\"}",
         "name": "join_date",
         "type": "\"date\""
        }
       ],
       "type": "table"
      }
     },
     "output_type": "display_data"
    }
   ],
   "source": [
    "members = spark.read.csv(\"dbfs:/FileStore/CaseStudy/Dannys_Diner/members.csv\", header=True,inferSchema=True)\n",
    "members.printSchema()\n",
    "display(members)"
   ]
  },
  {
   "cell_type": "code",
   "execution_count": 0,
   "metadata": {
    "application/vnd.databricks.v1+cell": {
     "cellMetadata": {
      "byteLimit": 2048000,
      "rowLimit": 10000
     },
     "inputWidgets": {},
     "nuid": "70d86400-b7fa-4081-83ee-5f12de4d0955",
     "showTitle": false,
     "title": ""
    }
   },
   "outputs": [],
   "source": [
    "sales.createOrReplaceTempView(\"Sales\")\n",
    "menu.createOrReplaceTempView(\"Menu\")\n",
    "members.createOrReplaceTempView(\"Members\")"
   ]
  },
  {
   "cell_type": "markdown",
   "metadata": {
    "application/vnd.databricks.v1+cell": {
     "cellMetadata": {
      "byteLimit": 2048000,
      "rowLimit": 10000
     },
     "inputWidgets": {},
     "nuid": "d7acca3e-6f4a-499f-98db-6edf5441bbc5",
     "showTitle": false,
     "title": ""
    }
   },
   "source": [
    "1. What is the total amount each customer spent at the restaurant?"
   ]
  },
  {
   "cell_type": "code",
   "execution_count": 0,
   "metadata": {
    "application/vnd.databricks.v1+cell": {
     "cellMetadata": {
      "byteLimit": 2048000,
      "rowLimit": 10000
     },
     "inputWidgets": {},
     "nuid": "09f90204-186f-43b0-a3ab-325c2a0555c6",
     "showTitle": false,
     "title": ""
    }
   },
   "outputs": [
    {
     "output_type": "stream",
     "name": "stdout",
     "output_type": "stream",
     "text": [
      "+-----------+----------+\n|customer_id|sum(price)|\n+-----------+----------+\n|          A|        76|\n|          B|        74|\n|          C|        36|\n+-----------+----------+\n\n"
     ]
    }
   ],
   "source": [
    "df1 = sales.join(menu,\"product_id\",\"inner\") \\\n",
    "        .groupBy(\"customer_id\").sum(\"price\") \\\n",
    "        .orderBy(\"customer_id\")         \n",
    "\n",
    "df1.show()        "
   ]
  },
  {
   "cell_type": "code",
   "execution_count": 0,
   "metadata": {
    "application/vnd.databricks.v1+cell": {
     "cellMetadata": {
      "byteLimit": 2048000,
      "implicitDf": true,
      "rowLimit": 10000
     },
     "inputWidgets": {},
     "nuid": "a65279a8-a8b2-4524-b5f1-6122b317e5ec",
     "showTitle": false,
     "title": ""
    }
   },
   "outputs": [
    {
     "output_type": "display_data",
     "data": {
      "text/html": [
       "<style scoped>\n",
       "  .table-result-container {\n",
       "    max-height: 300px;\n",
       "    overflow: auto;\n",
       "  }\n",
       "  table, th, td {\n",
       "    border: 1px solid black;\n",
       "    border-collapse: collapse;\n",
       "  }\n",
       "  th, td {\n",
       "    padding: 5px;\n",
       "  }\n",
       "  th {\n",
       "    text-align: left;\n",
       "  }\n",
       "</style><div class='table-result-container'><table class='table-result'><thead style='background-color: white'><tr><th>members</th><th>totalSpent</th></tr></thead><tbody><tr><td>A</td><td>76</td></tr><tr><td>B</td><td>74</td></tr><tr><td>C</td><td>36</td></tr></tbody></table></div>"
      ]
     },
     "metadata": {
      "application/vnd.databricks.v1+output": {
       "addedWidgets": {},
       "aggData": [],
       "aggError": "",
       "aggOverflow": false,
       "aggSchema": [],
       "aggSeriesLimitReached": false,
       "aggType": "",
       "arguments": {},
       "columnCustomDisplayInfos": {},
       "data": [
        [
         "A",
         76
        ],
        [
         "B",
         74
        ],
        [
         "C",
         36
        ]
       ],
       "datasetInfos": [],
       "dbfsResultPath": null,
       "isJsonSchema": true,
       "metadata": {},
       "overflow": false,
       "plotOptions": {
        "customPlotOptions": {},
        "displayType": "table",
        "pivotAggregation": null,
        "pivotColumns": null,
        "xColumns": null,
        "yColumns": null
       },
       "removedWidgets": [],
       "schema": [
        {
         "metadata": "{}",
         "name": "members",
         "type": "\"string\""
        },
        {
         "metadata": "{}",
         "name": "totalSpent",
         "type": "\"long\""
        }
       ],
       "type": "table"
      }
     },
     "output_type": "display_data"
    }
   ],
   "source": [
    "%sql\n",
    "\n",
    "SELECT s.customer_id as members, SUM(m.price) as totalSpent FROM Sales s\n",
    "JOIN Menu m ON s.product_id = m.product_id\n",
    "GROUP BY s.customer_id\n",
    "ORDER BY members"
   ]
  },
  {
   "cell_type": "markdown",
   "metadata": {
    "application/vnd.databricks.v1+cell": {
     "cellMetadata": {
      "byteLimit": 2048000,
      "rowLimit": 10000
     },
     "inputWidgets": {},
     "nuid": "6ad18a71-6d84-4747-9d62-bbb79379b54f",
     "showTitle": false,
     "title": ""
    }
   },
   "source": [
    "2. How many days has each customer visited the restaurant?"
   ]
  },
  {
   "cell_type": "code",
   "execution_count": 0,
   "metadata": {
    "application/vnd.databricks.v1+cell": {
     "cellMetadata": {
      "byteLimit": 2048000,
      "rowLimit": 10000
     },
     "inputWidgets": {},
     "nuid": "8eedb52f-0f0f-4c48-9699-48c3a4f46bc0",
     "showTitle": false,
     "title": ""
    }
   },
   "outputs": [],
   "source": [
    "from pyspark.sql.functions import countDistinct,count"
   ]
  },
  {
   "cell_type": "code",
   "execution_count": 0,
   "metadata": {
    "application/vnd.databricks.v1+cell": {
     "cellMetadata": {
      "byteLimit": 2048000,
      "rowLimit": 10000
     },
     "inputWidgets": {},
     "nuid": "304c851e-e62b-4a8c-a1ea-be26ccf721b0",
     "showTitle": false,
     "title": ""
    }
   },
   "outputs": [
    {
     "output_type": "display_data",
     "data": {
      "text/html": [
       "<style scoped>\n",
       "  .table-result-container {\n",
       "    max-height: 300px;\n",
       "    overflow: auto;\n",
       "  }\n",
       "  table, th, td {\n",
       "    border: 1px solid black;\n",
       "    border-collapse: collapse;\n",
       "  }\n",
       "  th, td {\n",
       "    padding: 5px;\n",
       "  }\n",
       "  th {\n",
       "    text-align: left;\n",
       "  }\n",
       "</style><div class='table-result-container'><table class='table-result'><thead style='background-color: white'><tr><th>customer_id</th><th>count</th></tr></thead><tbody><tr><td>A</td><td>4</td></tr><tr><td>B</td><td>6</td></tr><tr><td>C</td><td>2</td></tr></tbody></table></div>"
      ]
     },
     "metadata": {
      "application/vnd.databricks.v1+output": {
       "addedWidgets": {},
       "aggData": [],
       "aggError": "",
       "aggOverflow": false,
       "aggSchema": [],
       "aggSeriesLimitReached": false,
       "aggType": "",
       "arguments": {},
       "columnCustomDisplayInfos": {},
       "data": [
        [
         "A",
         4
        ],
        [
         "B",
         6
        ],
        [
         "C",
         2
        ]
       ],
       "datasetInfos": [],
       "dbfsResultPath": null,
       "isJsonSchema": true,
       "metadata": {},
       "overflow": false,
       "plotOptions": {
        "customPlotOptions": {},
        "displayType": "table",
        "pivotAggregation": null,
        "pivotColumns": null,
        "xColumns": null,
        "yColumns": null
       },
       "removedWidgets": [],
       "schema": [
        {
         "metadata": "{}",
         "name": "customer_id",
         "type": "\"string\""
        },
        {
         "metadata": "{}",
         "name": "count",
         "type": "\"long\""
        }
       ],
       "type": "table"
      }
     },
     "output_type": "display_data"
    }
   ],
   "source": [
    "df2 = sales.groupBy(\"customer_id\") \\\n",
    "        .agg(countDistinct(\"order_date\").alias(\"count\")) \\\n",
    "        .orderBy(\"customer_id\")\n",
    "\n",
    "display(df2)"
   ]
  },
  {
   "cell_type": "code",
   "execution_count": 0,
   "metadata": {
    "application/vnd.databricks.v1+cell": {
     "cellMetadata": {
      "byteLimit": 2048000,
      "implicitDf": true,
      "rowLimit": 10000
     },
     "inputWidgets": {},
     "nuid": "bf3c6287-8851-4d9e-b1e0-416320cb2cb3",
     "showTitle": false,
     "title": ""
    }
   },
   "outputs": [
    {
     "output_type": "display_data",
     "data": {
      "text/html": [
       "<style scoped>\n",
       "  .table-result-container {\n",
       "    max-height: 300px;\n",
       "    overflow: auto;\n",
       "  }\n",
       "  table, th, td {\n",
       "    border: 1px solid black;\n",
       "    border-collapse: collapse;\n",
       "  }\n",
       "  th, td {\n",
       "    padding: 5px;\n",
       "  }\n",
       "  th {\n",
       "    text-align: left;\n",
       "  }\n",
       "</style><div class='table-result-container'><table class='table-result'><thead style='background-color: white'><tr><th>customer_id</th><th>count</th></tr></thead><tbody><tr><td>A</td><td>4</td></tr><tr><td>B</td><td>6</td></tr><tr><td>C</td><td>2</td></tr></tbody></table></div>"
      ]
     },
     "metadata": {
      "application/vnd.databricks.v1+output": {
       "addedWidgets": {},
       "aggData": [],
       "aggError": "",
       "aggOverflow": false,
       "aggSchema": [],
       "aggSeriesLimitReached": false,
       "aggType": "",
       "arguments": {},
       "columnCustomDisplayInfos": {},
       "data": [
        [
         "A",
         4
        ],
        [
         "B",
         6
        ],
        [
         "C",
         2
        ]
       ],
       "datasetInfos": [],
       "dbfsResultPath": null,
       "isJsonSchema": true,
       "metadata": {},
       "overflow": false,
       "plotOptions": {
        "customPlotOptions": {},
        "displayType": "table",
        "pivotAggregation": null,
        "pivotColumns": null,
        "xColumns": null,
        "yColumns": null
       },
       "removedWidgets": [],
       "schema": [
        {
         "metadata": "{}",
         "name": "customer_id",
         "type": "\"string\""
        },
        {
         "metadata": "{}",
         "name": "count",
         "type": "\"long\""
        }
       ],
       "type": "table"
      }
     },
     "output_type": "display_data"
    }
   ],
   "source": [
    "%sql\n",
    "\n",
    "SELECT customer_id, COUNT(DISTINCT order_date) AS `count` FROM Sales \n",
    "GROUP BY customer_id\n",
    "ORDER BY customer_id"
   ]
  },
  {
   "cell_type": "markdown",
   "metadata": {
    "application/vnd.databricks.v1+cell": {
     "cellMetadata": {
      "byteLimit": 2048000,
      "rowLimit": 10000
     },
     "inputWidgets": {},
     "nuid": "a8ae46f5-9a3f-4a01-8a03-1d8eb37c6df8",
     "showTitle": false,
     "title": ""
    }
   },
   "source": [
    "3. What was the first item from the menu purchased by each customer?"
   ]
  },
  {
   "cell_type": "code",
   "execution_count": 0,
   "metadata": {
    "application/vnd.databricks.v1+cell": {
     "cellMetadata": {
      "byteLimit": 2048000,
      "rowLimit": 10000
     },
     "inputWidgets": {},
     "nuid": "1a0b20df-7456-4e48-a1c1-bfdae33caa78",
     "showTitle": false,
     "title": ""
    }
   },
   "outputs": [],
   "source": [
    "from pyspark.sql.window import Window\n",
    "from pyspark.sql.functions import dense_rank, col"
   ]
  },
  {
   "cell_type": "code",
   "execution_count": 0,
   "metadata": {
    "application/vnd.databricks.v1+cell": {
     "cellMetadata": {
      "byteLimit": 2048000,
      "rowLimit": 10000
     },
     "inputWidgets": {},
     "nuid": "266f972e-84cc-437a-a0ee-1a9301cedc8f",
     "showTitle": false,
     "title": ""
    }
   },
   "outputs": [
    {
     "output_type": "display_data",
     "data": {
      "text/html": [
       "<style scoped>\n",
       "  .table-result-container {\n",
       "    max-height: 300px;\n",
       "    overflow: auto;\n",
       "  }\n",
       "  table, th, td {\n",
       "    border: 1px solid black;\n",
       "    border-collapse: collapse;\n",
       "  }\n",
       "  th, td {\n",
       "    padding: 5px;\n",
       "  }\n",
       "  th {\n",
       "    text-align: left;\n",
       "  }\n",
       "</style><div class='table-result-container'><table class='table-result'><thead style='background-color: white'><tr><th>customer_id</th><th>product_name</th></tr></thead><tbody><tr><td>A</td><td>sushi</td></tr><tr><td>A</td><td>curry</td></tr><tr><td>B</td><td>curry</td></tr><tr><td>C</td><td>ramen</td></tr></tbody></table></div>"
      ]
     },
     "metadata": {
      "application/vnd.databricks.v1+output": {
       "addedWidgets": {},
       "aggData": [],
       "aggError": "",
       "aggOverflow": false,
       "aggSchema": [],
       "aggSeriesLimitReached": false,
       "aggType": "",
       "arguments": {},
       "columnCustomDisplayInfos": {},
       "data": [
        [
         "A",
         "sushi"
        ],
        [
         "A",
         "curry"
        ],
        [
         "B",
         "curry"
        ],
        [
         "C",
         "ramen"
        ]
       ],
       "datasetInfos": [],
       "dbfsResultPath": null,
       "isJsonSchema": true,
       "metadata": {},
       "overflow": false,
       "plotOptions": {
        "customPlotOptions": {},
        "displayType": "table",
        "pivotAggregation": null,
        "pivotColumns": null,
        "xColumns": null,
        "yColumns": null
       },
       "removedWidgets": [],
       "schema": [
        {
         "metadata": "{}",
         "name": "customer_id",
         "type": "\"string\""
        },
        {
         "metadata": "{}",
         "name": "product_name",
         "type": "\"string\""
        }
       ],
       "type": "table"
      }
     },
     "output_type": "display_data"
    }
   ],
   "source": [
    "windowSpec83 = Window.partitionBy(\"customer_id\").orderBy(col(\"order_date\").asc())\n",
    "\n",
    "df3 = sales.join(menu,\"product_id\") \\\n",
    "        .withColumn(\"rank\", dense_rank().over(windowSpec3)) \\\n",
    "        .filter(\"rank == 1\") \\\n",
    "        .select(\"customer_id\",\"product_name\") \\\n",
    "        .distinct()\n",
    "\n",
    "display(df3)"
   ]
  },
  {
   "cell_type": "code",
   "execution_count": 0,
   "metadata": {
    "application/vnd.databricks.v1+cell": {
     "cellMetadata": {
      "byteLimit": 2048000,
      "implicitDf": true,
      "rowLimit": 10000
     },
     "inputWidgets": {},
     "nuid": "5737418d-0161-425e-b917-4f1c75ea67f0",
     "showTitle": false,
     "title": ""
    }
   },
   "outputs": [
    {
     "output_type": "display_data",
     "data": {
      "text/html": [
       "<style scoped>\n",
       "  .table-result-container {\n",
       "    max-height: 300px;\n",
       "    overflow: auto;\n",
       "  }\n",
       "  table, th, td {\n",
       "    border: 1px solid black;\n",
       "    border-collapse: collapse;\n",
       "  }\n",
       "  th, td {\n",
       "    padding: 5px;\n",
       "  }\n",
       "  th {\n",
       "    text-align: left;\n",
       "  }\n",
       "</style><div class='table-result-container'><table class='table-result'><thead style='background-color: white'><tr><th>customer</th><th>product</th></tr></thead><tbody><tr><td>A</td><td>sushi</td></tr><tr><td>A</td><td>curry</td></tr><tr><td>B</td><td>curry</td></tr><tr><td>C</td><td>ramen</td></tr></tbody></table></div>"
      ]
     },
     "metadata": {
      "application/vnd.databricks.v1+output": {
       "addedWidgets": {},
       "aggData": [],
       "aggError": "",
       "aggOverflow": false,
       "aggSchema": [],
       "aggSeriesLimitReached": false,
       "aggType": "",
       "arguments": {},
       "columnCustomDisplayInfos": {},
       "data": [
        [
         "A",
         "sushi"
        ],
        [
         "A",
         "curry"
        ],
        [
         "B",
         "curry"
        ],
        [
         "C",
         "ramen"
        ]
       ],
       "datasetInfos": [],
       "dbfsResultPath": null,
       "isJsonSchema": true,
       "metadata": {},
       "overflow": false,
       "plotOptions": {
        "customPlotOptions": {},
        "displayType": "table",
        "pivotAggregation": null,
        "pivotColumns": null,
        "xColumns": null,
        "yColumns": null
       },
       "removedWidgets": [],
       "schema": [
        {
         "metadata": "{}",
         "name": "customer",
         "type": "\"string\""
        },
        {
         "metadata": "{}",
         "name": "product",
         "type": "\"string\""
        }
       ],
       "type": "table"
      }
     },
     "output_type": "display_data"
    }
   ],
   "source": [
    "%sql\n",
    "-- windows function alias name cannot be used for filtering directly. Need to create a cte and then we can use it for filtering\n",
    "\n",
    "WITH ranked_sales AS (\n",
    "    SELECT\n",
    "        s.customer_id AS customer,\n",
    "        m.product_name AS product,\n",
    "        DENSE_RANK() OVER (PARTITION BY s.customer_id ORDER BY order_date ASC) AS rank\n",
    "    FROM Sales s\n",
    "    JOIN Menu m ON s.product_id = m.product_id\n",
    ")\n",
    "SELECT DISTINCT customer, product\n",
    "FROM ranked_sales\n",
    "WHERE rank = 1\n",
    "ORDER BY customer;\n"
   ]
  },
  {
   "cell_type": "markdown",
   "metadata": {
    "application/vnd.databricks.v1+cell": {
     "cellMetadata": {
      "byteLimit": 2048000,
      "rowLimit": 10000
     },
     "inputWidgets": {},
     "nuid": "78c78066-8db6-4fc3-93df-2877a5a01df7",
     "showTitle": false,
     "title": ""
    }
   },
   "source": [
    "4. What is the most purchased item on the menu and how many times was it purchased by all customers?"
   ]
  },
  {
   "cell_type": "code",
   "execution_count": 0,
   "metadata": {
    "application/vnd.databricks.v1+cell": {
     "cellMetadata": {
      "byteLimit": 2048000,
      "rowLimit": 10000
     },
     "inputWidgets": {},
     "nuid": "db18f616-8cec-4d42-85a6-6bbcfec51318",
     "showTitle": false,
     "title": ""
    }
   },
   "outputs": [],
   "source": [
    "from pyspark.sql.functions import desc"
   ]
  },
  {
   "cell_type": "code",
   "execution_count": 0,
   "metadata": {
    "application/vnd.databricks.v1+cell": {
     "cellMetadata": {
      "byteLimit": 2048000,
      "implicitDf": true,
      "rowLimit": 10000
     },
     "inputWidgets": {},
     "nuid": "50b66f39-f6bf-43d8-ab3c-7048c39f43dc",
     "showTitle": false,
     "title": ""
    }
   },
   "outputs": [
    {
     "output_type": "display_data",
     "data": {
      "text/html": [
       "<style scoped>\n",
       "  .table-result-container {\n",
       "    max-height: 300px;\n",
       "    overflow: auto;\n",
       "  }\n",
       "  table, th, td {\n",
       "    border: 1px solid black;\n",
       "    border-collapse: collapse;\n",
       "  }\n",
       "  th, td {\n",
       "    padding: 5px;\n",
       "  }\n",
       "  th {\n",
       "    text-align: left;\n",
       "  }\n",
       "</style><div class='table-result-container'><table class='table-result'><thead style='background-color: white'><tr><th>product_name</th><th>cnt</th></tr></thead><tbody><tr><td>ramen</td><td>8</td></tr></tbody></table></div>"
      ]
     },
     "metadata": {
      "application/vnd.databricks.v1+output": {
       "addedWidgets": {},
       "aggData": [],
       "aggError": "",
       "aggOverflow": false,
       "aggSchema": [],
       "aggSeriesLimitReached": false,
       "aggType": "",
       "arguments": {},
       "columnCustomDisplayInfos": {},
       "data": [
        [
         "ramen",
         8
        ]
       ],
       "datasetInfos": [],
       "dbfsResultPath": null,
       "isJsonSchema": true,
       "metadata": {},
       "overflow": false,
       "plotOptions": {
        "customPlotOptions": {},
        "displayType": "table",
        "pivotAggregation": null,
        "pivotColumns": null,
        "xColumns": null,
        "yColumns": null
       },
       "removedWidgets": [],
       "schema": [
        {
         "metadata": "{}",
         "name": "product_name",
         "type": "\"string\""
        },
        {
         "metadata": "{}",
         "name": "cnt",
         "type": "\"long\""
        }
       ],
       "type": "table"
      }
     },
     "output_type": "display_data"
    }
   ],
   "source": [
    "%sql\n",
    "\n",
    "SELECT product_name, count(1) as cnt FROM sales s \n",
    "JOIN menu m ON s.product_id = m.product_id\n",
    "GROUP BY product_name\n",
    "ORDER BY cnt DESC \n",
    "LIMIT 1"
   ]
  },
  {
   "cell_type": "code",
   "execution_count": 0,
   "metadata": {
    "application/vnd.databricks.v1+cell": {
     "cellMetadata": {
      "byteLimit": 2048000,
      "rowLimit": 10000
     },
     "inputWidgets": {},
     "nuid": "a8a21deb-5365-44c9-8a2e-c82d5df862bb",
     "showTitle": false,
     "title": ""
    }
   },
   "outputs": [
    {
     "output_type": "display_data",
     "data": {
      "text/html": [
       "<style scoped>\n",
       "  .table-result-container {\n",
       "    max-height: 300px;\n",
       "    overflow: auto;\n",
       "  }\n",
       "  table, th, td {\n",
       "    border: 1px solid black;\n",
       "    border-collapse: collapse;\n",
       "  }\n",
       "  th, td {\n",
       "    padding: 5px;\n",
       "  }\n",
       "  th {\n",
       "    text-align: left;\n",
       "  }\n",
       "</style><div class='table-result-container'><table class='table-result'><thead style='background-color: white'><tr><th>product_name</th><th>count</th></tr></thead><tbody><tr><td>ramen</td><td>8</td></tr></tbody></table></div>"
      ]
     },
     "metadata": {
      "application/vnd.databricks.v1+output": {
       "addedWidgets": {},
       "aggData": [],
       "aggError": "",
       "aggOverflow": false,
       "aggSchema": [],
       "aggSeriesLimitReached": false,
       "aggType": "",
       "arguments": {},
       "columnCustomDisplayInfos": {},
       "data": [
        [
         "ramen",
         8
        ]
       ],
       "datasetInfos": [],
       "dbfsResultPath": null,
       "isJsonSchema": true,
       "metadata": {},
       "overflow": false,
       "plotOptions": {
        "customPlotOptions": {},
        "displayType": "table",
        "pivotAggregation": null,
        "pivotColumns": null,
        "xColumns": null,
        "yColumns": null
       },
       "removedWidgets": [],
       "schema": [
        {
         "metadata": "{}",
         "name": "product_name",
         "type": "\"string\""
        },
        {
         "metadata": "{}",
         "name": "count",
         "type": "\"long\""
        }
       ],
       "type": "table"
      }
     },
     "output_type": "display_data"
    }
   ],
   "source": [
    "df4 = sales.join(menu,\"product_id\") \\\n",
    "        .groupBy(\"product_name\").count() \\\n",
    "        .orderBy(desc(\"count\")) \\\n",
    "        .limit(1)\n",
    "\n",
    "display(df4)"
   ]
  },
  {
   "cell_type": "markdown",
   "metadata": {
    "application/vnd.databricks.v1+cell": {
     "cellMetadata": {
      "byteLimit": 2048000,
      "rowLimit": 10000
     },
     "inputWidgets": {},
     "nuid": "03436990-bb5b-4c76-ab76-118a28432cac",
     "showTitle": false,
     "title": ""
    }
   },
   "source": [
    "5. Which item was the most popular for each customer?"
   ]
  },
  {
   "cell_type": "code",
   "execution_count": 0,
   "metadata": {
    "application/vnd.databricks.v1+cell": {
     "cellMetadata": {
      "byteLimit": 2048000,
      "implicitDf": true,
      "rowLimit": 10000
     },
     "inputWidgets": {},
     "nuid": "1c1726d8-7efd-4624-87c6-604ff9d453ed",
     "showTitle": false,
     "title": ""
    }
   },
   "outputs": [
    {
     "output_type": "display_data",
     "data": {
      "text/html": [
       "<style scoped>\n",
       "  .table-result-container {\n",
       "    max-height: 300px;\n",
       "    overflow: auto;\n",
       "  }\n",
       "  table, th, td {\n",
       "    border: 1px solid black;\n",
       "    border-collapse: collapse;\n",
       "  }\n",
       "  th, td {\n",
       "    padding: 5px;\n",
       "  }\n",
       "  th {\n",
       "    text-align: left;\n",
       "  }\n",
       "</style><div class='table-result-container'><table class='table-result'><thead style='background-color: white'><tr><th>customer_id</th><th>product_name</th><th>order_count</th></tr></thead><tbody><tr><td>A</td><td>ramen</td><td>3</td></tr><tr><td>B</td><td>sushi</td><td>2</td></tr><tr><td>B</td><td>ramen</td><td>2</td></tr><tr><td>B</td><td>curry</td><td>2</td></tr><tr><td>C</td><td>ramen</td><td>3</td></tr></tbody></table></div>"
      ]
     },
     "metadata": {
      "application/vnd.databricks.v1+output": {
       "addedWidgets": {},
       "aggData": [],
       "aggError": "",
       "aggOverflow": false,
       "aggSchema": [],
       "aggSeriesLimitReached": false,
       "aggType": "",
       "arguments": {},
       "columnCustomDisplayInfos": {},
       "data": [
        [
         "A",
         "ramen",
         3
        ],
        [
         "B",
         "sushi",
         2
        ],
        [
         "B",
         "ramen",
         2
        ],
        [
         "B",
         "curry",
         2
        ],
        [
         "C",
         "ramen",
         3
        ]
       ],
       "datasetInfos": [],
       "dbfsResultPath": null,
       "isJsonSchema": true,
       "metadata": {},
       "overflow": false,
       "plotOptions": {
        "customPlotOptions": {},
        "displayType": "table",
        "pivotAggregation": null,
        "pivotColumns": null,
        "xColumns": null,
        "yColumns": null
       },
       "removedWidgets": [],
       "schema": [
        {
         "metadata": "{}",
         "name": "customer_id",
         "type": "\"string\""
        },
        {
         "metadata": "{}",
         "name": "product_name",
         "type": "\"string\""
        },
        {
         "metadata": "{}",
         "name": "order_count",
         "type": "\"long\""
        }
       ],
       "type": "table"
      }
     },
     "output_type": "display_data"
    }
   ],
   "source": [
    "%sql\n",
    "\n",
    "WITH popular AS (\n",
    "SELECT customer_id, product_name, COUNT(1) AS order_count,\n",
    "DENSE_RANK() OVER(PARTITION BY customer_id ORDER BY COUNT(s.customer_id) DESC) AS rank\n",
    "FROM sales s\n",
    "JOIN menu m ON s.product_id = m.product_id\n",
    "GROUP BY customer_id, product_name\n",
    ")\n",
    "SELECT customer_id, product_name, order_count\n",
    "FROM popular\n",
    "WHERE rank = 1"
   ]
  },
  {
   "cell_type": "code",
   "execution_count": 0,
   "metadata": {
    "application/vnd.databricks.v1+cell": {
     "cellMetadata": {
      "byteLimit": 2048000,
      "rowLimit": 10000
     },
     "inputWidgets": {},
     "nuid": "73baa99f-d690-4c1d-b953-4f89fb62cd8c",
     "showTitle": false,
     "title": ""
    }
   },
   "outputs": [
    {
     "output_type": "display_data",
     "data": {
      "text/html": [
       "<style scoped>\n",
       "  .table-result-container {\n",
       "    max-height: 300px;\n",
       "    overflow: auto;\n",
       "  }\n",
       "  table, th, td {\n",
       "    border: 1px solid black;\n",
       "    border-collapse: collapse;\n",
       "  }\n",
       "  th, td {\n",
       "    padding: 5px;\n",
       "  }\n",
       "  th {\n",
       "    text-align: left;\n",
       "  }\n",
       "</style><div class='table-result-container'><table class='table-result'><thead style='background-color: white'><tr><th>customer_id</th><th>product_name</th><th>order_count</th></tr></thead><tbody><tr><td>A</td><td>ramen</td><td>3</td></tr><tr><td>B</td><td>sushi</td><td>2</td></tr><tr><td>B</td><td>ramen</td><td>2</td></tr><tr><td>B</td><td>curry</td><td>2</td></tr><tr><td>C</td><td>ramen</td><td>3</td></tr></tbody></table></div>"
      ]
     },
     "metadata": {
      "application/vnd.databricks.v1+output": {
       "addedWidgets": {},
       "aggData": [],
       "aggError": "",
       "aggOverflow": false,
       "aggSchema": [],
       "aggSeriesLimitReached": false,
       "aggType": "",
       "arguments": {},
       "columnCustomDisplayInfos": {},
       "data": [
        [
         "A",
         "ramen",
         3
        ],
        [
         "B",
         "sushi",
         2
        ],
        [
         "B",
         "ramen",
         2
        ],
        [
         "B",
         "curry",
         2
        ],
        [
         "C",
         "ramen",
         3
        ]
       ],
       "datasetInfos": [],
       "dbfsResultPath": null,
       "isJsonSchema": true,
       "metadata": {},
       "overflow": false,
       "plotOptions": {
        "customPlotOptions": {},
        "displayType": "table",
        "pivotAggregation": null,
        "pivotColumns": null,
        "xColumns": null,
        "yColumns": null
       },
       "removedWidgets": [],
       "schema": [
        {
         "metadata": "{}",
         "name": "customer_id",
         "type": "\"string\""
        },
        {
         "metadata": "{}",
         "name": "product_name",
         "type": "\"string\""
        },
        {
         "metadata": "{}",
         "name": "order_count",
         "type": "\"long\""
        }
       ],
       "type": "table"
      }
     },
     "output_type": "display_data"
    }
   ],
   "source": [
    "windowSpec5 = Window.partitionBy(\"customer_id\").orderBy(desc(\"order_count\"))\n",
    "\n",
    "df5 = sales.join(menu,\"product_id\") \\\n",
    "        .groupBy(\"customer_id\",\"product_name\") \\\n",
    "        .agg(count(\"product_id\").alias(\"order_count\")) \\\n",
    "        .withColumn(\"rank\", dense_rank().over(windowSpec5)) \\\n",
    "        .filter(\"rank = 1\") \\\n",
    "        .select(\"customer_id\",\"product_name\",\"order_count\")\n",
    "\n",
    "display(df5)"
   ]
  },
  {
   "cell_type": "markdown",
   "metadata": {
    "application/vnd.databricks.v1+cell": {
     "cellMetadata": {
      "byteLimit": 2048000,
      "rowLimit": 10000
     },
     "inputWidgets": {},
     "nuid": "09138dee-f47e-4e07-a4e7-6795af1bc2f2",
     "showTitle": false,
     "title": ""
    }
   },
   "source": [
    "6. Which item was purchased first by the customer after they became a member?"
   ]
  },
  {
   "cell_type": "code",
   "execution_count": 0,
   "metadata": {
    "application/vnd.databricks.v1+cell": {
     "cellMetadata": {
      "byteLimit": 2048000,
      "rowLimit": 10000
     },
     "inputWidgets": {},
     "nuid": "079e6689-6d18-4188-a8bb-763abbacf25e",
     "showTitle": false,
     "title": ""
    }
   },
   "outputs": [],
   "source": [
    "from pyspark.sql.functions import row_number"
   ]
  },
  {
   "cell_type": "code",
   "execution_count": 0,
   "metadata": {
    "application/vnd.databricks.v1+cell": {
     "cellMetadata": {
      "byteLimit": 2048000,
      "implicitDf": true,
      "rowLimit": 10000
     },
     "inputWidgets": {},
     "nuid": "74eac3ba-d5cf-4a86-9778-c27e7763bbfa",
     "showTitle": false,
     "title": ""
    }
   },
   "outputs": [
    {
     "output_type": "display_data",
     "data": {
      "text/html": [
       "<style scoped>\n",
       "  .table-result-container {\n",
       "    max-height: 300px;\n",
       "    overflow: auto;\n",
       "  }\n",
       "  table, th, td {\n",
       "    border: 1px solid black;\n",
       "    border-collapse: collapse;\n",
       "  }\n",
       "  th, td {\n",
       "    padding: 5px;\n",
       "  }\n",
       "  th {\n",
       "    text-align: left;\n",
       "  }\n",
       "</style><div class='table-result-container'><table class='table-result'><thead style='background-color: white'><tr><th>customer_id</th><th>product_id</th><th>product_name</th></tr></thead><tbody><tr><td>A</td><td>2</td><td>curry</td></tr><tr><td>B</td><td>1</td><td>sushi</td></tr></tbody></table></div>"
      ]
     },
     "metadata": {
      "application/vnd.databricks.v1+output": {
       "addedWidgets": {},
       "aggData": [],
       "aggError": "",
       "aggOverflow": false,
       "aggSchema": [],
       "aggSeriesLimitReached": false,
       "aggType": "",
       "arguments": {},
       "columnCustomDisplayInfos": {},
       "data": [
        [
         "A",
         2,
         "curry"
        ],
        [
         "B",
         1,
         "sushi"
        ]
       ],
       "datasetInfos": [],
       "dbfsResultPath": null,
       "isJsonSchema": true,
       "metadata": {},
       "overflow": false,
       "plotOptions": {
        "customPlotOptions": {},
        "displayType": "table",
        "pivotAggregation": null,
        "pivotColumns": null,
        "xColumns": null,
        "yColumns": null
       },
       "removedWidgets": [],
       "schema": [
        {
         "metadata": "{}",
         "name": "customer_id",
         "type": "\"string\""
        },
        {
         "metadata": "{}",
         "name": "product_id",
         "type": "\"integer\""
        },
        {
         "metadata": "{}",
         "name": "product_name",
         "type": "\"string\""
        }
       ],
       "type": "table"
      }
     },
     "output_type": "display_data"
    }
   ],
   "source": [
    "%sql\n",
    "\n",
    "WITH become_member AS(\n",
    "SELECT m.customer_id,s.product_id,\n",
    "ROW_NUMBER() OVER(PARTITION BY m.customer_id ORDER BY s.order_date) AS rw\n",
    "FROM members m\n",
    "JOIN sales s ON m.customer_id=s.customer_id\n",
    "AND s.order_date >= m.join_date\n",
    ")\n",
    "SELECT b.customer_id,menu.product_id,product_name FROM become_member b\n",
    "JOIN menu ON b.product_id = menu.product_id\n",
    "WHERE rw = 1\n",
    "ORDER BY b.customer_id"
   ]
  },
  {
   "cell_type": "code",
   "execution_count": 0,
   "metadata": {
    "application/vnd.databricks.v1+cell": {
     "cellMetadata": {
      "byteLimit": 2048000,
      "rowLimit": 10000
     },
     "inputWidgets": {},
     "nuid": "0fd2495b-ea2a-4b4a-bb6d-b7f1e3c76904",
     "showTitle": false,
     "title": ""
    }
   },
   "outputs": [
    {
     "output_type": "display_data",
     "data": {
      "text/html": [
       "<style scoped>\n",
       "  .table-result-container {\n",
       "    max-height: 300px;\n",
       "    overflow: auto;\n",
       "  }\n",
       "  table, th, td {\n",
       "    border: 1px solid black;\n",
       "    border-collapse: collapse;\n",
       "  }\n",
       "  th, td {\n",
       "    padding: 5px;\n",
       "  }\n",
       "  th {\n",
       "    text-align: left;\n",
       "  }\n",
       "</style><div class='table-result-container'><table class='table-result'><thead style='background-color: white'><tr><th>customer_id</th><th>product_name</th><th>rank</th></tr></thead><tbody><tr><td>A</td><td>curry</td><td>1</td></tr><tr><td>B</td><td>sushi</td><td>1</td></tr></tbody></table></div>"
      ]
     },
     "metadata": {
      "application/vnd.databricks.v1+output": {
       "addedWidgets": {},
       "aggData": [],
       "aggError": "",
       "aggOverflow": false,
       "aggSchema": [],
       "aggSeriesLimitReached": false,
       "aggType": "",
       "arguments": {},
       "columnCustomDisplayInfos": {},
       "data": [
        [
         "A",
         "curry",
         1
        ],
        [
         "B",
         "sushi",
         1
        ]
       ],
       "datasetInfos": [],
       "dbfsResultPath": null,
       "isJsonSchema": true,
       "metadata": {},
       "overflow": false,
       "plotOptions": {
        "customPlotOptions": {},
        "displayType": "table",
        "pivotAggregation": null,
        "pivotColumns": null,
        "xColumns": null,
        "yColumns": null
       },
       "removedWidgets": [],
       "schema": [
        {
         "metadata": "{}",
         "name": "customer_id",
         "type": "\"string\""
        },
        {
         "metadata": "{}",
         "name": "product_name",
         "type": "\"string\""
        },
        {
         "metadata": "{}",
         "name": "rank",
         "type": "\"integer\""
        }
       ],
       "type": "table"
      }
     },
     "output_type": "display_data"
    }
   ],
   "source": [
    "WindowSpec6 = Window.partitionBy(\"customer_id\").orderBy(\"order_date\")\n",
    "\n",
    "df6 = sales.join(members,\"customer_id\") \\\n",
    "        .filter(sales.order_date >= members.join_date) \\\n",
    "        .withColumn(\"rank\", row_number().over(WindowSpec6) ) \\\n",
    "        .join(menu,\"product_id\") \\\n",
    "        .select(\"customer_id\",\"product_name\",\"rank\") \\\n",
    "        .where(\"rank =1\")\n",
    "        \n",
    "\n",
    "display(df6)"
   ]
  },
  {
   "cell_type": "markdown",
   "metadata": {
    "application/vnd.databricks.v1+cell": {
     "cellMetadata": {
      "byteLimit": 2048000,
      "rowLimit": 10000
     },
     "inputWidgets": {},
     "nuid": "02755e73-fc75-4836-b623-d7212bceefc1",
     "showTitle": false,
     "title": ""
    }
   },
   "source": [
    "7. Which item was purchased just before the customer became a member?"
   ]
  },
  {
   "cell_type": "code",
   "execution_count": 0,
   "metadata": {
    "application/vnd.databricks.v1+cell": {
     "cellMetadata": {
      "byteLimit": 2048000,
      "implicitDf": true,
      "rowLimit": 10000
     },
     "inputWidgets": {},
     "nuid": "e9b39a81-1dc8-43f6-8e25-a779297173e4",
     "showTitle": false,
     "title": ""
    }
   },
   "outputs": [
    {
     "output_type": "display_data",
     "data": {
      "text/html": [
       "<style scoped>\n",
       "  .table-result-container {\n",
       "    max-height: 300px;\n",
       "    overflow: auto;\n",
       "  }\n",
       "  table, th, td {\n",
       "    border: 1px solid black;\n",
       "    border-collapse: collapse;\n",
       "  }\n",
       "  th, td {\n",
       "    padding: 5px;\n",
       "  }\n",
       "  th {\n",
       "    text-align: left;\n",
       "  }\n",
       "</style><div class='table-result-container'><table class='table-result'><thead style='background-color: white'><tr><th>customer_id</th><th>product_id</th><th>product_name</th></tr></thead><tbody><tr><td>A</td><td>1</td><td>sushi</td></tr><tr><td>B</td><td>1</td><td>sushi</td></tr></tbody></table></div>"
      ]
     },
     "metadata": {
      "application/vnd.databricks.v1+output": {
       "addedWidgets": {},
       "aggData": [],
       "aggError": "",
       "aggOverflow": false,
       "aggSchema": [],
       "aggSeriesLimitReached": false,
       "aggType": "",
       "arguments": {},
       "columnCustomDisplayInfos": {},
       "data": [
        [
         "A",
         1,
         "sushi"
        ],
        [
         "B",
         1,
         "sushi"
        ]
       ],
       "datasetInfos": [],
       "dbfsResultPath": null,
       "isJsonSchema": true,
       "metadata": {},
       "overflow": false,
       "plotOptions": {
        "customPlotOptions": {},
        "displayType": "table",
        "pivotAggregation": null,
        "pivotColumns": null,
        "xColumns": null,
        "yColumns": null
       },
       "removedWidgets": [],
       "schema": [
        {
         "metadata": "{}",
         "name": "customer_id",
         "type": "\"string\""
        },
        {
         "metadata": "{}",
         "name": "product_id",
         "type": "\"integer\""
        },
        {
         "metadata": "{}",
         "name": "product_name",
         "type": "\"string\""
        }
       ],
       "type": "table"
      }
     },
     "output_type": "display_data"
    }
   ],
   "source": [
    "%sql\n",
    "\n",
    "WITH not_member AS(\n",
    "SELECT m.customer_id,s.product_id,\n",
    "ROW_NUMBER() OVER(PARTITION BY m.customer_id ORDER BY s.order_date DESC) AS rw\n",
    "FROM members m\n",
    "JOIN sales s ON m.customer_id=s.customer_id\n",
    "AND s.order_date < m.join_date\n",
    ")\n",
    "SELECT n.customer_id,menu.product_id,product_name FROM not_member n\n",
    "JOIN menu ON n.product_id = menu.product_id\n",
    "WHERE rw = 1\n",
    "ORDER BY n.customer_id"
   ]
  },
  {
   "cell_type": "code",
   "execution_count": 0,
   "metadata": {
    "application/vnd.databricks.v1+cell": {
     "cellMetadata": {
      "byteLimit": 2048000,
      "rowLimit": 10000
     },
     "inputWidgets": {},
     "nuid": "1a88342d-a724-44c8-8afc-29af295db2c6",
     "showTitle": false,
     "title": ""
    }
   },
   "outputs": [
    {
     "output_type": "display_data",
     "data": {
      "text/html": [
       "<style scoped>\n",
       "  .table-result-container {\n",
       "    max-height: 300px;\n",
       "    overflow: auto;\n",
       "  }\n",
       "  table, th, td {\n",
       "    border: 1px solid black;\n",
       "    border-collapse: collapse;\n",
       "  }\n",
       "  th, td {\n",
       "    padding: 5px;\n",
       "  }\n",
       "  th {\n",
       "    text-align: left;\n",
       "  }\n",
       "</style><div class='table-result-container'><table class='table-result'><thead style='background-color: white'><tr><th>customer_id</th><th>product_name</th><th>rank</th></tr></thead><tbody><tr><td>A</td><td>sushi</td><td>1</td></tr><tr><td>B</td><td>sushi</td><td>1</td></tr></tbody></table></div>"
      ]
     },
     "metadata": {
      "application/vnd.databricks.v1+output": {
       "addedWidgets": {},
       "aggData": [],
       "aggError": "",
       "aggOverflow": false,
       "aggSchema": [],
       "aggSeriesLimitReached": false,
       "aggType": "",
       "arguments": {},
       "columnCustomDisplayInfos": {},
       "data": [
        [
         "A",
         "sushi",
         1
        ],
        [
         "B",
         "sushi",
         1
        ]
       ],
       "datasetInfos": [],
       "dbfsResultPath": null,
       "isJsonSchema": true,
       "metadata": {},
       "overflow": false,
       "plotOptions": {
        "customPlotOptions": {},
        "displayType": "table",
        "pivotAggregation": null,
        "pivotColumns": null,
        "xColumns": null,
        "yColumns": null
       },
       "removedWidgets": [],
       "schema": [
        {
         "metadata": "{}",
         "name": "customer_id",
         "type": "\"string\""
        },
        {
         "metadata": "{}",
         "name": "product_name",
         "type": "\"string\""
        },
        {
         "metadata": "{}",
         "name": "rank",
         "type": "\"integer\""
        }
       ],
       "type": "table"
      }
     },
     "output_type": "display_data"
    }
   ],
   "source": [
    "WindowSpec7 = Window.partitionBy(\"customer_id\").orderBy(desc(\"order_date\"))\n",
    "\n",
    "df7 = sales.join(members,\"customer_id\") \\\n",
    "        .filter(sales.order_date < members.join_date) \\\n",
    "        .withColumn(\"rank\", row_number().over(WindowSpec7) ) \\\n",
    "        .join(menu,\"product_id\") \\\n",
    "        .select(\"customer_id\",\"product_name\",\"rank\") \\\n",
    "        .where(\"rank =1\")\n",
    "        \n",
    "\n",
    "display(df7)"
   ]
  },
  {
   "cell_type": "markdown",
   "metadata": {
    "application/vnd.databricks.v1+cell": {
     "cellMetadata": {
      "byteLimit": 2048000,
      "rowLimit": 10000
     },
     "inputWidgets": {},
     "nuid": "56040237-a664-47be-a4ec-ae4d41ad0234",
     "showTitle": false,
     "title": ""
    }
   },
   "source": [
    "8. What is the total items and amount spent for each member before they became a member?"
   ]
  },
  {
   "cell_type": "code",
   "execution_count": 0,
   "metadata": {
    "application/vnd.databricks.v1+cell": {
     "cellMetadata": {
      "byteLimit": 2048000,
      "implicitDf": true,
      "rowLimit": 10000
     },
     "inputWidgets": {},
     "nuid": "a89d67f4-172b-4a7d-a5fc-4fb0d498a390",
     "showTitle": false,
     "title": ""
    }
   },
   "outputs": [
    {
     "output_type": "display_data",
     "data": {
      "text/html": [
       "<style scoped>\n",
       "  .table-result-container {\n",
       "    max-height: 300px;\n",
       "    overflow: auto;\n",
       "  }\n",
       "  table, th, td {\n",
       "    border: 1px solid black;\n",
       "    border-collapse: collapse;\n",
       "  }\n",
       "  th, td {\n",
       "    padding: 5px;\n",
       "  }\n",
       "  th {\n",
       "    text-align: left;\n",
       "  }\n",
       "</style><div class='table-result-container'><table class='table-result'><thead style='background-color: white'><tr><th>customer_id</th><th>totalPrdctCount</th><th>sum(price)</th></tr></thead><tbody><tr><td>A</td><td>2</td><td>25</td></tr><tr><td>B</td><td>3</td><td>40</td></tr></tbody></table></div>"
      ]
     },
     "metadata": {
      "application/vnd.databricks.v1+output": {
       "addedWidgets": {},
       "aggData": [],
       "aggError": "",
       "aggOverflow": false,
       "aggSchema": [],
       "aggSeriesLimitReached": false,
       "aggType": "",
       "arguments": {},
       "columnCustomDisplayInfos": {},
       "data": [
        [
         "A",
         2,
         25
        ],
        [
         "B",
         3,
         40
        ]
       ],
       "datasetInfos": [],
       "dbfsResultPath": null,
       "isJsonSchema": true,
       "metadata": {},
       "overflow": false,
       "plotOptions": {
        "customPlotOptions": {},
        "displayType": "table",
        "pivotAggregation": null,
        "pivotColumns": null,
        "xColumns": null,
        "yColumns": null
       },
       "removedWidgets": [],
       "schema": [
        {
         "metadata": "{}",
         "name": "customer_id",
         "type": "\"string\""
        },
        {
         "metadata": "{}",
         "name": "totalPrdctCount",
         "type": "\"long\""
        },
        {
         "metadata": "{\"__autoGeneratedAlias\":\"true\"}",
         "name": "sum(price)",
         "type": "\"long\""
        }
       ],
       "type": "table"
      }
     },
     "output_type": "display_data"
    }
   ],
   "source": [
    "%sql\n",
    "\n",
    "SELECT mem.customer_id, COUNT(s.product_id) AS totalPrdctCount, SUM(m.price) FROM Sales s\n",
    "JOIN Menu m ON s.product_id = m.product_id\n",
    "JOIN Members mem ON mem.customer_id = s.customer_id\n",
    "AND s.order_date < mem.join_date\n",
    "GROUP BY mem.customer_id\n",
    "ORDER BY mem.customer_id"
   ]
  },
  {
   "cell_type": "code",
   "execution_count": 0,
   "metadata": {
    "application/vnd.databricks.v1+cell": {
     "cellMetadata": {
      "byteLimit": 2048000,
      "rowLimit": 10000
     },
     "inputWidgets": {},
     "nuid": "d56a1141-f8e0-4b85-b0d9-fc189c646666",
     "showTitle": false,
     "title": ""
    }
   },
   "outputs": [],
   "source": [
    "from pyspark.sql.functions import *"
   ]
  },
  {
   "cell_type": "code",
   "execution_count": 0,
   "metadata": {
    "application/vnd.databricks.v1+cell": {
     "cellMetadata": {
      "byteLimit": 2048000,
      "rowLimit": 10000
     },
     "inputWidgets": {},
     "nuid": "1d4868dc-aa2a-4f3e-b097-34681bd307cf",
     "showTitle": false,
     "title": ""
    }
   },
   "outputs": [
    {
     "output_type": "display_data",
     "data": {
      "text/html": [
       "<style scoped>\n",
       "  .table-result-container {\n",
       "    max-height: 300px;\n",
       "    overflow: auto;\n",
       "  }\n",
       "  table, th, td {\n",
       "    border: 1px solid black;\n",
       "    border-collapse: collapse;\n",
       "  }\n",
       "  th, td {\n",
       "    padding: 5px;\n",
       "  }\n",
       "  th {\n",
       "    text-align: left;\n",
       "  }\n",
       "</style><div class='table-result-container'><table class='table-result'><thead style='background-color: white'><tr><th>customer_id</th><th>total_items</th><th>total</th></tr></thead><tbody><tr><td>B</td><td>3</td><td>40</td></tr><tr><td>A</td><td>2</td><td>25</td></tr></tbody></table></div>"
      ]
     },
     "metadata": {
      "application/vnd.databricks.v1+output": {
       "addedWidgets": {},
       "aggData": [],
       "aggError": "",
       "aggOverflow": false,
       "aggSchema": [],
       "aggSeriesLimitReached": false,
       "aggType": "",
       "arguments": {},
       "columnCustomDisplayInfos": {},
       "data": [
        [
         "B",
         3,
         40
        ],
        [
         "A",
         2,
         25
        ]
       ],
       "datasetInfos": [],
       "dbfsResultPath": null,
       "isJsonSchema": true,
       "metadata": {},
       "overflow": false,
       "plotOptions": {
        "customPlotOptions": {},
        "displayType": "table",
        "pivotAggregation": null,
        "pivotColumns": null,
        "xColumns": null,
        "yColumns": null
       },
       "removedWidgets": [],
       "schema": [
        {
         "metadata": "{}",
         "name": "customer_id",
         "type": "\"string\""
        },
        {
         "metadata": "{}",
         "name": "total_items",
         "type": "\"long\""
        },
        {
         "metadata": "{}",
         "name": "total",
         "type": "\"long\""
        }
       ],
       "type": "table"
      }
     },
     "output_type": "display_data"
    }
   ],
   "source": [
    "#https://stackoverflow.com/questions/46009493/why-does-pyspark-agg-tell-me-that-datatypes-are-incorrect-here\n",
    "# sum(\"price\").alias(\"total\") got error in this aggegration step as pyspark got confused between python sum and pyspark sum function ---> this might have been the error but it was not\n",
    "#https://medium.com/@ragavi.indra/handling-a-pyspark-typeerror-unsupported-operand-type-s-for-int-and-str-bdc003b2c6a6\n",
    "#In this scenario, I forgot a tiny but essential step: importing the ‘sum’ function!\n",
    "\n",
    "df8 = sales.join(menu,\"product_id\") \\\n",
    "        .join(members,\"customer_id\") \\\n",
    "        .filter(sales.order_date < members.join_date) \\\n",
    "        .withColumn(\"price\",col(\"price\").cast(\"Integer\")) \\\n",
    "        .groupBy(\"customer_id\") \\\n",
    "        .agg(count(\"product_id\").alias(\"total_items\"),\n",
    "              sum(col(\"price\")).alias(\"total\")\n",
    "        )\n",
    "\n",
    "display(df8)"
   ]
  },
  {
   "cell_type": "markdown",
   "metadata": {
    "application/vnd.databricks.v1+cell": {
     "cellMetadata": {
      "byteLimit": 2048000,
      "rowLimit": 10000
     },
     "inputWidgets": {},
     "nuid": "48672afd-ffaa-45c6-9d4e-5847596f37a0",
     "showTitle": false,
     "title": ""
    }
   },
   "source": [
    "9. If each $1 spent equates to 10 points and sushi has a 2x points multiplier - how many points would each customer have?"
   ]
  },
  {
   "cell_type": "code",
   "execution_count": 0,
   "metadata": {
    "application/vnd.databricks.v1+cell": {
     "cellMetadata": {
      "byteLimit": 2048000,
      "implicitDf": true,
      "rowLimit": 10000
     },
     "inputWidgets": {},
     "nuid": "290909fb-667a-4494-8a67-94d8dadca50f",
     "showTitle": false,
     "title": ""
    }
   },
   "outputs": [
    {
     "output_type": "display_data",
     "data": {
      "text/html": [
       "<style scoped>\n",
       "  .table-result-container {\n",
       "    max-height: 300px;\n",
       "    overflow: auto;\n",
       "  }\n",
       "  table, th, td {\n",
       "    border: 1px solid black;\n",
       "    border-collapse: collapse;\n",
       "  }\n",
       "  th, td {\n",
       "    padding: 5px;\n",
       "  }\n",
       "  th {\n",
       "    text-align: left;\n",
       "  }\n",
       "</style><div class='table-result-container'><table class='table-result'><thead style='background-color: white'><tr><th>customer_id</th><th>sum(points)</th></tr></thead><tbody><tr><td>A</td><td>860</td></tr><tr><td>B</td><td>940</td></tr><tr><td>C</td><td>360</td></tr></tbody></table></div>"
      ]
     },
     "metadata": {
      "application/vnd.databricks.v1+output": {
       "addedWidgets": {},
       "aggData": [],
       "aggError": "",
       "aggOverflow": false,
       "aggSchema": [],
       "aggSeriesLimitReached": false,
       "aggType": "",
       "arguments": {},
       "columnCustomDisplayInfos": {},
       "data": [
        [
         "A",
         860
        ],
        [
         "B",
         940
        ],
        [
         "C",
         360
        ]
       ],
       "datasetInfos": [],
       "dbfsResultPath": null,
       "isJsonSchema": true,
       "metadata": {},
       "overflow": false,
       "plotOptions": {
        "customPlotOptions": {},
        "displayType": "table",
        "pivotAggregation": null,
        "pivotColumns": null,
        "xColumns": null,
        "yColumns": null
       },
       "removedWidgets": [],
       "schema": [
        {
         "metadata": "{}",
         "name": "customer_id",
         "type": "\"string\""
        },
        {
         "metadata": "{\"__autoGeneratedAlias\":\"true\"}",
         "name": "sum(points)",
         "type": "\"long\""
        }
       ],
       "type": "table"
      }
     },
     "output_type": "display_data"
    }
   ],
   "source": [
    "%sql\n",
    "-- in group by case when column name does not work\n",
    "\n",
    "WITH points_cte AS (\n",
    "    SELECT product_id,\n",
    "                    CASE\n",
    "                        WHEN product_name = \"sushi\"  THEN 20*price\n",
    "                        ELSE 10*price\n",
    "                    END AS points \n",
    "FROM menu\n",
    ")\n",
    "SELECT s.customer_id, SUM(points) FROM sales s\n",
    "JOIN points_cte c ON s.product_id = c.product_id\n",
    "GROUP BY s.customer_id \n",
    "ORDER BY s.customer_id\n",
    "\n",
    "\n",
    "/*SELECT customer_id,\n",
    "                    CASE\n",
    "                        WHEN m.product_name = \"sushi\"  THEN 20*price\n",
    "                        ELSE 10*price\n",
    "                    END AS points \n",
    "FROM sales s\n",
    "JOIN menu m ON s.product_id = m.product_id\n",
    "GROUP BY customer_id\n",
    "*/"
   ]
  },
  {
   "cell_type": "code",
   "execution_count": 0,
   "metadata": {
    "application/vnd.databricks.v1+cell": {
     "cellMetadata": {
      "byteLimit": 2048000,
      "rowLimit": 10000
     },
     "inputWidgets": {},
     "nuid": "2969af4b-256e-42c9-b7a6-1e520700aa9f",
     "showTitle": false,
     "title": ""
    }
   },
   "outputs": [
    {
     "output_type": "display_data",
     "data": {
      "text/html": [
       "<style scoped>\n",
       "  .table-result-container {\n",
       "    max-height: 300px;\n",
       "    overflow: auto;\n",
       "  }\n",
       "  table, th, td {\n",
       "    border: 1px solid black;\n",
       "    border-collapse: collapse;\n",
       "  }\n",
       "  th, td {\n",
       "    padding: 5px;\n",
       "  }\n",
       "  th {\n",
       "    text-align: left;\n",
       "  }\n",
       "</style><div class='table-result-container'><table class='table-result'><thead style='background-color: white'><tr><th>customer_id</th><th>total_points</th></tr></thead><tbody><tr><td>A</td><td>860</td></tr><tr><td>B</td><td>940</td></tr><tr><td>C</td><td>360</td></tr></tbody></table></div>"
      ]
     },
     "metadata": {
      "application/vnd.databricks.v1+output": {
       "addedWidgets": {},
       "aggData": [],
       "aggError": "",
       "aggOverflow": false,
       "aggSchema": [],
       "aggSeriesLimitReached": false,
       "aggType": "",
       "arguments": {},
       "columnCustomDisplayInfos": {},
       "data": [
        [
         "A",
         860
        ],
        [
         "B",
         940
        ],
        [
         "C",
         360
        ]
       ],
       "datasetInfos": [],
       "dbfsResultPath": null,
       "isJsonSchema": true,
       "metadata": {},
       "overflow": false,
       "plotOptions": {
        "customPlotOptions": {},
        "displayType": "table",
        "pivotAggregation": null,
        "pivotColumns": null,
        "xColumns": null,
        "yColumns": null
       },
       "removedWidgets": [],
       "schema": [
        {
         "metadata": "{}",
         "name": "customer_id",
         "type": "\"string\""
        },
        {
         "metadata": "{}",
         "name": "total_points",
         "type": "\"long\""
        }
       ],
       "type": "table"
      }
     },
     "output_type": "display_data"
    }
   ],
   "source": [
    "df9 = sales.join(menu,\"product_id\") \\\n",
    "        .withColumn(\"points\", when(col(\"product_name\") == \"sushi\", col(\"price\")*20).otherwise(col(\"price\")*10)) \\\n",
    "        .groupBy(\"customer_id\").agg(sum(\"points\").alias(\"total_points\")) \\\n",
    "        .orderBy(\"customer_id\")\n",
    "\n",
    "display(df9)"
   ]
  },
  {
   "cell_type": "markdown",
   "metadata": {
    "application/vnd.databricks.v1+cell": {
     "cellMetadata": {
      "byteLimit": 2048000,
      "rowLimit": 10000
     },
     "inputWidgets": {},
     "nuid": "8d507270-a651-420b-aef3-63329643b43f",
     "showTitle": false,
     "title": ""
    }
   },
   "source": [
    "Recreate the table with: customer_id, order_date, product_name, price, member (Y/N)"
   ]
  },
  {
   "cell_type": "code",
   "execution_count": 0,
   "metadata": {
    "application/vnd.databricks.v1+cell": {
     "cellMetadata": {
      "byteLimit": 2048000,
      "implicitDf": true,
      "rowLimit": 10000
     },
     "inputWidgets": {},
     "nuid": "90646e3d-8fb1-49dc-b9f2-3f1c299ac5d2",
     "showTitle": false,
     "title": ""
    }
   },
   "outputs": [
    {
     "output_type": "display_data",
     "data": {
      "text/html": [
       "<style scoped>\n",
       "  .table-result-container {\n",
       "    max-height: 300px;\n",
       "    overflow: auto;\n",
       "  }\n",
       "  table, th, td {\n",
       "    border: 1px solid black;\n",
       "    border-collapse: collapse;\n",
       "  }\n",
       "  th, td {\n",
       "    padding: 5px;\n",
       "  }\n",
       "  th {\n",
       "    text-align: left;\n",
       "  }\n",
       "</style><div class='table-result-container'><table class='table-result'><thead style='background-color: white'><tr><th>customer_id</th><th>order_date</th><th>join_date</th><th>product_name</th><th>price</th><th>member</th></tr></thead><tbody><tr><td>A</td><td>2021-01-01</td><td>2021-01-07</td><td>sushi</td><td>10</td><td>N</td></tr><tr><td>A</td><td>2021-01-01</td><td>2021-01-07</td><td>curry</td><td>15</td><td>N</td></tr><tr><td>A</td><td>2021-01-07</td><td>2021-01-07</td><td>curry</td><td>15</td><td>Y</td></tr><tr><td>A</td><td>2021-01-10</td><td>2021-01-07</td><td>ramen</td><td>12</td><td>Y</td></tr><tr><td>A</td><td>2021-01-11</td><td>2021-01-07</td><td>ramen</td><td>12</td><td>Y</td></tr><tr><td>A</td><td>2021-01-11</td><td>2021-01-07</td><td>ramen</td><td>12</td><td>Y</td></tr><tr><td>B</td><td>2021-01-01</td><td>2021-01-09</td><td>curry</td><td>15</td><td>N</td></tr><tr><td>B</td><td>2021-01-02</td><td>2021-01-09</td><td>curry</td><td>15</td><td>N</td></tr><tr><td>B</td><td>2021-01-04</td><td>2021-01-09</td><td>sushi</td><td>10</td><td>N</td></tr><tr><td>B</td><td>2021-01-11</td><td>2021-01-09</td><td>sushi</td><td>10</td><td>Y</td></tr><tr><td>B</td><td>2021-01-16</td><td>2021-01-09</td><td>ramen</td><td>12</td><td>Y</td></tr><tr><td>B</td><td>2021-02-01</td><td>2021-01-09</td><td>ramen</td><td>12</td><td>Y</td></tr><tr><td>C</td><td>2021-01-01</td><td>null</td><td>ramen</td><td>12</td><td>N</td></tr><tr><td>C</td><td>2021-01-01</td><td>null</td><td>ramen</td><td>12</td><td>N</td></tr><tr><td>C</td><td>2021-01-07</td><td>null</td><td>ramen</td><td>12</td><td>N</td></tr></tbody></table></div>"
      ]
     },
     "metadata": {
      "application/vnd.databricks.v1+output": {
       "addedWidgets": {},
       "aggData": [],
       "aggError": "",
       "aggOverflow": false,
       "aggSchema": [],
       "aggSeriesLimitReached": false,
       "aggType": "",
       "arguments": {},
       "columnCustomDisplayInfos": {},
       "data": [
        [
         "A",
         "2021-01-01",
         "2021-01-07",
         "sushi",
         10,
         "N"
        ],
        [
         "A",
         "2021-01-01",
         "2021-01-07",
         "curry",
         15,
         "N"
        ],
        [
         "A",
         "2021-01-07",
         "2021-01-07",
         "curry",
         15,
         "Y"
        ],
        [
         "A",
         "2021-01-10",
         "2021-01-07",
         "ramen",
         12,
         "Y"
        ],
        [
         "A",
         "2021-01-11",
         "2021-01-07",
         "ramen",
         12,
         "Y"
        ],
        [
         "A",
         "2021-01-11",
         "2021-01-07",
         "ramen",
         12,
         "Y"
        ],
        [
         "B",
         "2021-01-01",
         "2021-01-09",
         "curry",
         15,
         "N"
        ],
        [
         "B",
         "2021-01-02",
         "2021-01-09",
         "curry",
         15,
         "N"
        ],
        [
         "B",
         "2021-01-04",
         "2021-01-09",
         "sushi",
         10,
         "N"
        ],
        [
         "B",
         "2021-01-11",
         "2021-01-09",
         "sushi",
         10,
         "Y"
        ],
        [
         "B",
         "2021-01-16",
         "2021-01-09",
         "ramen",
         12,
         "Y"
        ],
        [
         "B",
         "2021-02-01",
         "2021-01-09",
         "ramen",
         12,
         "Y"
        ],
        [
         "C",
         "2021-01-01",
         null,
         "ramen",
         12,
         "N"
        ],
        [
         "C",
         "2021-01-01",
         null,
         "ramen",
         12,
         "N"
        ],
        [
         "C",
         "2021-01-07",
         null,
         "ramen",
         12,
         "N"
        ]
       ],
       "datasetInfos": [],
       "dbfsResultPath": null,
       "isJsonSchema": true,
       "metadata": {},
       "overflow": false,
       "plotOptions": {
        "customPlotOptions": {},
        "displayType": "table",
        "pivotAggregation": null,
        "pivotColumns": null,
        "xColumns": null,
        "yColumns": null
       },
       "removedWidgets": [],
       "schema": [
        {
         "metadata": "{}",
         "name": "customer_id",
         "type": "\"string\""
        },
        {
         "metadata": "{\"__detected_date_formats\":\"yyyy-M-d\"}",
         "name": "order_date",
         "type": "\"date\""
        },
        {
         "metadata": "{\"__detected_date_formats\":\"yyyy-M-d\"}",
         "name": "join_date",
         "type": "\"date\""
        },
        {
         "metadata": "{}",
         "name": "product_name",
         "type": "\"string\""
        },
        {
         "metadata": "{}",
         "name": "price",
         "type": "\"integer\""
        },
        {
         "metadata": "{}",
         "name": "member",
         "type": "\"string\""
        }
       ],
       "type": "table"
      }
     },
     "output_type": "display_data"
    }
   ],
   "source": [
    "%sql\n",
    "-- added join date column for my own refrence\n",
    "SELECT s.customer_id, order_date, join_date, product_name, price,\n",
    "            CASE\n",
    "                WHEN join_date > order_date THEN \"N\"\n",
    "                WHEN join_date <= order_date THEN \"Y\"\n",
    "                ELSE \"N\"\n",
    "            END AS member \n",
    "FROM sales s\n",
    "LEFT JOIN members mem ON s.customer_id = mem.customer_id\n",
    "JOIN menu m ON s.product_id = m.product_id"
   ]
  },
  {
   "cell_type": "code",
   "execution_count": 0,
   "metadata": {
    "application/vnd.databricks.v1+cell": {
     "cellMetadata": {
      "byteLimit": 2048000,
      "rowLimit": 10000
     },
     "inputWidgets": {},
     "nuid": "eda5ebaa-608c-4e21-a1f3-fb49fc0b9968",
     "showTitle": false,
     "title": ""
    }
   },
   "outputs": [
    {
     "output_type": "display_data",
     "data": {
      "text/html": [
       "<style scoped>\n",
       "  .table-result-container {\n",
       "    max-height: 300px;\n",
       "    overflow: auto;\n",
       "  }\n",
       "  table, th, td {\n",
       "    border: 1px solid black;\n",
       "    border-collapse: collapse;\n",
       "  }\n",
       "  th, td {\n",
       "    padding: 5px;\n",
       "  }\n",
       "  th {\n",
       "    text-align: left;\n",
       "  }\n",
       "</style><div class='table-result-container'><table class='table-result'><thead style='background-color: white'><tr><th>customer_id</th><th>order_date</th><th>join_date</th><th>product_name</th><th>price</th><th>member</th></tr></thead><tbody><tr><td>A</td><td>2021-01-01</td><td>2021-01-07</td><td>sushi</td><td>10</td><td>N</td></tr><tr><td>A</td><td>2021-01-01</td><td>2021-01-07</td><td>curry</td><td>15</td><td>N</td></tr><tr><td>A</td><td>2021-01-07</td><td>2021-01-07</td><td>curry</td><td>15</td><td>Y</td></tr><tr><td>A</td><td>2021-01-10</td><td>2021-01-07</td><td>ramen</td><td>12</td><td>Y</td></tr><tr><td>A</td><td>2021-01-11</td><td>2021-01-07</td><td>ramen</td><td>12</td><td>Y</td></tr><tr><td>A</td><td>2021-01-11</td><td>2021-01-07</td><td>ramen</td><td>12</td><td>Y</td></tr><tr><td>B</td><td>2021-01-01</td><td>2021-01-09</td><td>curry</td><td>15</td><td>N</td></tr><tr><td>B</td><td>2021-01-02</td><td>2021-01-09</td><td>curry</td><td>15</td><td>N</td></tr><tr><td>B</td><td>2021-01-04</td><td>2021-01-09</td><td>sushi</td><td>10</td><td>N</td></tr><tr><td>B</td><td>2021-01-11</td><td>2021-01-09</td><td>sushi</td><td>10</td><td>Y</td></tr><tr><td>B</td><td>2021-01-16</td><td>2021-01-09</td><td>ramen</td><td>12</td><td>Y</td></tr><tr><td>B</td><td>2021-02-01</td><td>2021-01-09</td><td>ramen</td><td>12</td><td>Y</td></tr><tr><td>C</td><td>2021-01-01</td><td>null</td><td>ramen</td><td>12</td><td>N</td></tr><tr><td>C</td><td>2021-01-01</td><td>null</td><td>ramen</td><td>12</td><td>N</td></tr><tr><td>C</td><td>2021-01-07</td><td>null</td><td>ramen</td><td>12</td><td>N</td></tr></tbody></table></div>"
      ]
     },
     "metadata": {
      "application/vnd.databricks.v1+output": {
       "addedWidgets": {},
       "aggData": [],
       "aggError": "",
       "aggOverflow": false,
       "aggSchema": [],
       "aggSeriesLimitReached": false,
       "aggType": "",
       "arguments": {},
       "columnCustomDisplayInfos": {},
       "data": [
        [
         "A",
         "2021-01-01",
         "2021-01-07",
         "sushi",
         10,
         "N"
        ],
        [
         "A",
         "2021-01-01",
         "2021-01-07",
         "curry",
         15,
         "N"
        ],
        [
         "A",
         "2021-01-07",
         "2021-01-07",
         "curry",
         15,
         "Y"
        ],
        [
         "A",
         "2021-01-10",
         "2021-01-07",
         "ramen",
         12,
         "Y"
        ],
        [
         "A",
         "2021-01-11",
         "2021-01-07",
         "ramen",
         12,
         "Y"
        ],
        [
         "A",
         "2021-01-11",
         "2021-01-07",
         "ramen",
         12,
         "Y"
        ],
        [
         "B",
         "2021-01-01",
         "2021-01-09",
         "curry",
         15,
         "N"
        ],
        [
         "B",
         "2021-01-02",
         "2021-01-09",
         "curry",
         15,
         "N"
        ],
        [
         "B",
         "2021-01-04",
         "2021-01-09",
         "sushi",
         10,
         "N"
        ],
        [
         "B",
         "2021-01-11",
         "2021-01-09",
         "sushi",
         10,
         "Y"
        ],
        [
         "B",
         "2021-01-16",
         "2021-01-09",
         "ramen",
         12,
         "Y"
        ],
        [
         "B",
         "2021-02-01",
         "2021-01-09",
         "ramen",
         12,
         "Y"
        ],
        [
         "C",
         "2021-01-01",
         null,
         "ramen",
         12,
         "N"
        ],
        [
         "C",
         "2021-01-01",
         null,
         "ramen",
         12,
         "N"
        ],
        [
         "C",
         "2021-01-07",
         null,
         "ramen",
         12,
         "N"
        ]
       ],
       "datasetInfos": [],
       "dbfsResultPath": null,
       "isJsonSchema": true,
       "metadata": {},
       "overflow": false,
       "plotOptions": {
        "customPlotOptions": {},
        "displayType": "table",
        "pivotAggregation": null,
        "pivotColumns": null,
        "xColumns": null,
        "yColumns": null
       },
       "removedWidgets": [],
       "schema": [
        {
         "metadata": "{}",
         "name": "customer_id",
         "type": "\"string\""
        },
        {
         "metadata": "{\"__detected_date_formats\":\"yyyy-M-d\"}",
         "name": "order_date",
         "type": "\"date\""
        },
        {
         "metadata": "{\"__detected_date_formats\":\"yyyy-M-d\"}",
         "name": "join_date",
         "type": "\"date\""
        },
        {
         "metadata": "{}",
         "name": "product_name",
         "type": "\"string\""
        },
        {
         "metadata": "{}",
         "name": "price",
         "type": "\"integer\""
        },
        {
         "metadata": "{}",
         "name": "member",
         "type": "\"string\""
        }
       ],
       "type": "table"
      }
     },
     "output_type": "display_data"
    }
   ],
   "source": [
    "df11 = sales.join(members,\"customer_id\",\"left\") \\\n",
    "        .join(menu,\"product_id\") \\\n",
    "        .withColumn(\"member\", when(col(\"join_date\")>col(\"order_date\"),\"N\").when(col(\"join_date\")<=col(\"order_date\"),\"Y\").otherwise(\"N\")) \\\n",
    "        .select(\"customer_id\",\"order_date\",\"join_date\",\"product_name\",\"price\",\"member\")\n",
    "\n",
    "display(df11)"
   ]
  },
  {
   "cell_type": "markdown",
   "metadata": {
    "application/vnd.databricks.v1+cell": {
     "cellMetadata": {
      "byteLimit": 2048000,
      "rowLimit": 10000
     },
     "inputWidgets": {},
     "nuid": "dd1b50e7-35eb-472e-a08c-19fc4a719956",
     "showTitle": false,
     "title": ""
    }
   },
   "source": [
    "Recreate the table with: customer_id, order_date, product_name, price, member (Y/N), ranking "
   ]
  },
  {
   "cell_type": "code",
   "execution_count": 0,
   "metadata": {
    "application/vnd.databricks.v1+cell": {
     "cellMetadata": {
      "byteLimit": 2048000,
      "implicitDf": true,
      "rowLimit": 10000
     },
     "inputWidgets": {},
     "nuid": "20746ff5-8f31-4828-9fb7-ea718c03ab92",
     "showTitle": false,
     "title": ""
    }
   },
   "outputs": [
    {
     "output_type": "display_data",
     "data": {
      "text/html": [
       "<style scoped>\n",
       "  .table-result-container {\n",
       "    max-height: 300px;\n",
       "    overflow: auto;\n",
       "  }\n",
       "  table, th, td {\n",
       "    border: 1px solid black;\n",
       "    border-collapse: collapse;\n",
       "  }\n",
       "  th, td {\n",
       "    padding: 5px;\n",
       "  }\n",
       "  th {\n",
       "    text-align: left;\n",
       "  }\n",
       "</style><div class='table-result-container'><table class='table-result'><thead style='background-color: white'><tr><th>customer_id</th><th>order_date</th><th>join_date</th><th>product_name</th><th>price</th><th>member</th><th>ranking</th></tr></thead><tbody><tr><td>A</td><td>2021-01-01</td><td>2021-01-07</td><td>sushi</td><td>10</td><td>N</td><td>null</td></tr><tr><td>A</td><td>2021-01-01</td><td>2021-01-07</td><td>curry</td><td>15</td><td>N</td><td>null</td></tr><tr><td>A</td><td>2021-01-07</td><td>2021-01-07</td><td>curry</td><td>15</td><td>Y</td><td>1</td></tr><tr><td>A</td><td>2021-01-10</td><td>2021-01-07</td><td>ramen</td><td>12</td><td>Y</td><td>2</td></tr><tr><td>A</td><td>2021-01-11</td><td>2021-01-07</td><td>ramen</td><td>12</td><td>Y</td><td>3</td></tr><tr><td>A</td><td>2021-01-11</td><td>2021-01-07</td><td>ramen</td><td>12</td><td>Y</td><td>3</td></tr><tr><td>B</td><td>2021-01-01</td><td>2021-01-09</td><td>curry</td><td>15</td><td>N</td><td>null</td></tr><tr><td>B</td><td>2021-01-02</td><td>2021-01-09</td><td>curry</td><td>15</td><td>N</td><td>null</td></tr><tr><td>B</td><td>2021-01-04</td><td>2021-01-09</td><td>sushi</td><td>10</td><td>N</td><td>null</td></tr><tr><td>B</td><td>2021-01-11</td><td>2021-01-09</td><td>sushi</td><td>10</td><td>Y</td><td>1</td></tr><tr><td>B</td><td>2021-01-16</td><td>2021-01-09</td><td>ramen</td><td>12</td><td>Y</td><td>2</td></tr><tr><td>B</td><td>2021-02-01</td><td>2021-01-09</td><td>ramen</td><td>12</td><td>Y</td><td>3</td></tr><tr><td>C</td><td>2021-01-01</td><td>null</td><td>ramen</td><td>12</td><td>N</td><td>null</td></tr><tr><td>C</td><td>2021-01-01</td><td>null</td><td>ramen</td><td>12</td><td>N</td><td>null</td></tr><tr><td>C</td><td>2021-01-07</td><td>null</td><td>ramen</td><td>12</td><td>N</td><td>null</td></tr></tbody></table></div>"
      ]
     },
     "metadata": {
      "application/vnd.databricks.v1+output": {
       "addedWidgets": {},
       "aggData": [],
       "aggError": "",
       "aggOverflow": false,
       "aggSchema": [],
       "aggSeriesLimitReached": false,
       "aggType": "",
       "arguments": {},
       "columnCustomDisplayInfos": {},
       "data": [
        [
         "A",
         "2021-01-01",
         "2021-01-07",
         "sushi",
         10,
         "N",
         null
        ],
        [
         "A",
         "2021-01-01",
         "2021-01-07",
         "curry",
         15,
         "N",
         null
        ],
        [
         "A",
         "2021-01-07",
         "2021-01-07",
         "curry",
         15,
         "Y",
         1
        ],
        [
         "A",
         "2021-01-10",
         "2021-01-07",
         "ramen",
         12,
         "Y",
         2
        ],
        [
         "A",
         "2021-01-11",
         "2021-01-07",
         "ramen",
         12,
         "Y",
         3
        ],
        [
         "A",
         "2021-01-11",
         "2021-01-07",
         "ramen",
         12,
         "Y",
         3
        ],
        [
         "B",
         "2021-01-01",
         "2021-01-09",
         "curry",
         15,
         "N",
         null
        ],
        [
         "B",
         "2021-01-02",
         "2021-01-09",
         "curry",
         15,
         "N",
         null
        ],
        [
         "B",
         "2021-01-04",
         "2021-01-09",
         "sushi",
         10,
         "N",
         null
        ],
        [
         "B",
         "2021-01-11",
         "2021-01-09",
         "sushi",
         10,
         "Y",
         1
        ],
        [
         "B",
         "2021-01-16",
         "2021-01-09",
         "ramen",
         12,
         "Y",
         2
        ],
        [
         "B",
         "2021-02-01",
         "2021-01-09",
         "ramen",
         12,
         "Y",
         3
        ],
        [
         "C",
         "2021-01-01",
         null,
         "ramen",
         12,
         "N",
         null
        ],
        [
         "C",
         "2021-01-01",
         null,
         "ramen",
         12,
         "N",
         null
        ],
        [
         "C",
         "2021-01-07",
         null,
         "ramen",
         12,
         "N",
         null
        ]
       ],
       "datasetInfos": [],
       "dbfsResultPath": null,
       "isJsonSchema": true,
       "metadata": {},
       "overflow": false,
       "plotOptions": {
        "customPlotOptions": {},
        "displayType": "table",
        "pivotAggregation": null,
        "pivotColumns": null,
        "xColumns": null,
        "yColumns": null
       },
       "removedWidgets": [],
       "schema": [
        {
         "metadata": "{}",
         "name": "customer_id",
         "type": "\"string\""
        },
        {
         "metadata": "{\"__detected_date_formats\":\"yyyy-M-d\"}",
         "name": "order_date",
         "type": "\"date\""
        },
        {
         "metadata": "{\"__detected_date_formats\":\"yyyy-M-d\"}",
         "name": "join_date",
         "type": "\"date\""
        },
        {
         "metadata": "{}",
         "name": "product_name",
         "type": "\"string\""
        },
        {
         "metadata": "{}",
         "name": "price",
         "type": "\"integer\""
        },
        {
         "metadata": "{}",
         "name": "member",
         "type": "\"string\""
        },
        {
         "metadata": "{}",
         "name": "ranking",
         "type": "\"integer\""
        }
       ],
       "type": "table"
      }
     },
     "output_type": "display_data"
    }
   ],
   "source": [
    "\n",
    "%sql\n",
    "-- added join date column for my own refrence\n",
    "WITH mem_cte AS(\n",
    "SELECT s.customer_id, order_date, join_date, product_name, price,\n",
    "            CASE\n",
    "                WHEN join_date > order_date THEN \"N\"\n",
    "                WHEN join_date <= order_date THEN \"Y\"\n",
    "                ELSE \"N\"\n",
    "            END AS member \n",
    "FROM sales s\n",
    "LEFT JOIN members mem ON s.customer_id = mem.customer_id\n",
    "JOIN menu m ON s.product_id = m.product_id\n",
    ")\n",
    "SELECT *,\n",
    "        CASE \n",
    "            WHEN member = \"N\" THEN NULL\n",
    "            ELSE RANK() OVER(PARTITION BY customer_id,member ORDER BY order_date) \n",
    "        END AS ranking\n",
    "FROM mem_cte"
   ]
  },
  {
   "cell_type": "code",
   "execution_count": 0,
   "metadata": {
    "application/vnd.databricks.v1+cell": {
     "cellMetadata": {
      "byteLimit": 2048000,
      "rowLimit": 10000
     },
     "inputWidgets": {},
     "nuid": "96d03f12-d09c-4ea8-9362-404ae92c167e",
     "showTitle": false,
     "title": ""
    }
   },
   "outputs": [],
   "source": [
    "from pyspark.sql.window import Window\n",
    "from pyspark.sql.functions import dense_rank, col, rank"
   ]
  },
  {
   "cell_type": "code",
   "execution_count": 0,
   "metadata": {
    "application/vnd.databricks.v1+cell": {
     "cellMetadata": {
      "byteLimit": 2048000,
      "rowLimit": 10000
     },
     "inputWidgets": {},
     "nuid": "c6178c48-9e99-4b83-8861-9cac05cec0c9",
     "showTitle": false,
     "title": ""
    }
   },
   "outputs": [
    {
     "output_type": "display_data",
     "data": {
      "text/html": [
       "<style scoped>\n",
       "  .table-result-container {\n",
       "    max-height: 300px;\n",
       "    overflow: auto;\n",
       "  }\n",
       "  table, th, td {\n",
       "    border: 1px solid black;\n",
       "    border-collapse: collapse;\n",
       "  }\n",
       "  th, td {\n",
       "    padding: 5px;\n",
       "  }\n",
       "  th {\n",
       "    text-align: left;\n",
       "  }\n",
       "</style><div class='table-result-container'><table class='table-result'><thead style='background-color: white'><tr><th>customer_id</th><th>product_id</th><th>order_date</th><th>product_name</th><th>price</th><th>join_date</th><th>member</th><th>ranking</th></tr></thead><tbody><tr><td>A</td><td>1</td><td>2021-01-01</td><td>sushi</td><td>10</td><td>2021-01-07</td><td>N</td><td>NULL</td></tr><tr><td>A</td><td>2</td><td>2021-01-01</td><td>curry</td><td>15</td><td>2021-01-07</td><td>N</td><td>NULL</td></tr><tr><td>A</td><td>2</td><td>2021-01-07</td><td>curry</td><td>15</td><td>2021-01-07</td><td>Y</td><td>1</td></tr><tr><td>A</td><td>3</td><td>2021-01-10</td><td>ramen</td><td>12</td><td>2021-01-07</td><td>Y</td><td>2</td></tr><tr><td>A</td><td>3</td><td>2021-01-11</td><td>ramen</td><td>12</td><td>2021-01-07</td><td>Y</td><td>3</td></tr><tr><td>A</td><td>3</td><td>2021-01-11</td><td>ramen</td><td>12</td><td>2021-01-07</td><td>Y</td><td>3</td></tr><tr><td>B</td><td>2</td><td>2021-01-01</td><td>curry</td><td>15</td><td>2021-01-09</td><td>N</td><td>NULL</td></tr><tr><td>B</td><td>2</td><td>2021-01-02</td><td>curry</td><td>15</td><td>2021-01-09</td><td>N</td><td>NULL</td></tr><tr><td>B</td><td>1</td><td>2021-01-04</td><td>sushi</td><td>10</td><td>2021-01-09</td><td>N</td><td>NULL</td></tr><tr><td>B</td><td>1</td><td>2021-01-11</td><td>sushi</td><td>10</td><td>2021-01-09</td><td>Y</td><td>1</td></tr><tr><td>B</td><td>3</td><td>2021-01-16</td><td>ramen</td><td>12</td><td>2021-01-09</td><td>Y</td><td>2</td></tr><tr><td>B</td><td>3</td><td>2021-02-01</td><td>ramen</td><td>12</td><td>2021-01-09</td><td>Y</td><td>3</td></tr></tbody></table></div>"
      ]
     },
     "metadata": {
      "application/vnd.databricks.v1+output": {
       "addedWidgets": {},
       "aggData": [],
       "aggError": "",
       "aggOverflow": false,
       "aggSchema": [],
       "aggSeriesLimitReached": false,
       "aggType": "",
       "arguments": {},
       "columnCustomDisplayInfos": {},
       "data": [
        [
         "A",
         1,
         "2021-01-01",
         "sushi",
         10,
         "2021-01-07",
         "N",
         "NULL"
        ],
        [
         "A",
         2,
         "2021-01-01",
         "curry",
         15,
         "2021-01-07",
         "N",
         "NULL"
        ],
        [
         "A",
         2,
         "2021-01-07",
         "curry",
         15,
         "2021-01-07",
         "Y",
         "1"
        ],
        [
         "A",
         3,
         "2021-01-10",
         "ramen",
         12,
         "2021-01-07",
         "Y",
         "2"
        ],
        [
         "A",
         3,
         "2021-01-11",
         "ramen",
         12,
         "2021-01-07",
         "Y",
         "3"
        ],
        [
         "A",
         3,
         "2021-01-11",
         "ramen",
         12,
         "2021-01-07",
         "Y",
         "3"
        ],
        [
         "B",
         2,
         "2021-01-01",
         "curry",
         15,
         "2021-01-09",
         "N",
         "NULL"
        ],
        [
         "B",
         2,
         "2021-01-02",
         "curry",
         15,
         "2021-01-09",
         "N",
         "NULL"
        ],
        [
         "B",
         1,
         "2021-01-04",
         "sushi",
         10,
         "2021-01-09",
         "N",
         "NULL"
        ],
        [
         "B",
         1,
         "2021-01-11",
         "sushi",
         10,
         "2021-01-09",
         "Y",
         "1"
        ],
        [
         "B",
         3,
         "2021-01-16",
         "ramen",
         12,
         "2021-01-09",
         "Y",
         "2"
        ],
        [
         "B",
         3,
         "2021-02-01",
         "ramen",
         12,
         "2021-01-09",
         "Y",
         "3"
        ]
       ],
       "datasetInfos": [],
       "dbfsResultPath": null,
       "isJsonSchema": true,
       "metadata": {},
       "overflow": false,
       "plotOptions": {
        "customPlotOptions": {},
        "displayType": "table",
        "pivotAggregation": null,
        "pivotColumns": null,
        "xColumns": null,
        "yColumns": null
       },
       "removedWidgets": [],
       "schema": [
        {
         "metadata": "{}",
         "name": "customer_id",
         "type": "\"string\""
        },
        {
         "metadata": "{}",
         "name": "product_id",
         "type": "\"integer\""
        },
        {
         "metadata": "{\"__detected_date_formats\":\"yyyy-M-d\"}",
         "name": "order_date",
         "type": "\"date\""
        },
        {
         "metadata": "{}",
         "name": "product_name",
         "type": "\"string\""
        },
        {
         "metadata": "{}",
         "name": "price",
         "type": "\"integer\""
        },
        {
         "metadata": "{\"__detected_date_formats\":\"yyyy-M-d\"}",
         "name": "join_date",
         "type": "\"date\""
        },
        {
         "metadata": "{}",
         "name": "member",
         "type": "\"string\""
        },
        {
         "metadata": "{}",
         "name": "ranking",
         "type": "\"string\""
        }
       ],
       "type": "table"
      }
     },
     "output_type": "display_data"
    }
   ],
   "source": [
    "WindowSpec12 = Window.partitionBy(\"customer_id\",\"member\").orderBy(\"order_date\")\n",
    "\n",
    "\n",
    "df12 = sales.join(menu,\"product_id\",\"left\") \\\n",
    "        .join(members,\"customer_id\") \\\n",
    "        .withColumn(\"member\", when(col(\"join_date\")>col(\"order_date\"),\"N\").when(col(\"join_date\")<=col(\"order_date\"),\"Y\").otherwise(\"N\")) \\\n",
    "        .withColumn(\"ranking\", when(col(\"member\")==\"N\", \"NULL\").otherwise( rank().over(WindowSpec11)) )\n",
    "\n",
    "\n",
    "display(df12)"
   ]
  }
 ],
 "metadata": {
  "application/vnd.databricks.v1+notebook": {
   "dashboards": [],
   "language": "python",
   "notebookMetadata": {
    "mostRecentlyExecutedCommandWithImplicitDF": {
     "commandId": 3117672447987277,
     "dataframes": [
      "_sqldf"
     ]
    },
    "pythonIndentUnit": 4
   },
   "notebookName": "#1 - Danny's Diner",
   "widgets": {}
  }
 },
 "nbformat": 4,
 "nbformat_minor": 0
}
